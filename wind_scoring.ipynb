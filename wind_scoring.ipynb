{
 "cells": [
  {
   "cell_type": "code",
   "execution_count": 1,
   "metadata": {
    "collapsed": true
   },
   "outputs": [
    {
     "name": "stdout",
     "output_type": "stream",
     "text": [
      "Populating the interactive namespace from numpy and matplotlib\n"
     ]
    }
   ],
   "source": [
    "%pylab inline\n",
    "pylab.rcParams['figure.figsize'] = (8.0, 8.0)\n",
    "import glob\n",
    "import re\n",
    "import os\n",
    "import numpy as np"
   ]
  },
  {
   "cell_type": "code",
   "execution_count": 2,
   "metadata": {},
   "outputs": [],
   "source": [
    "def atoi(text):\n",
    "    return int(text) if text.isdigit() else text\n",
    "\n",
    "def natural_keys(text):\n",
    "    return [atoi(c) for c in re.split('(\\d+)', text)]\n",
    "\n",
    "work_folder = '/Users/rafa/Dropbox/wind_forecasting_paper/forecasts/EvoDAG2/'"
   ]
  },
  {
   "cell_type": "code",
   "execution_count": 3,
   "metadata": {},
   "outputs": [],
   "source": [
    "stations = ['aristeomercado',\n",
    "'cointzio',\n",
    "'corrales',\n",
    "'elfresno',\n",
    "'lapalma',\n",
    "'lapiedad',\n",
    "'malpais',\n",
    "'markazuza',\n",
    "'melchorocampo',\n",
    "'patzcuaro']\n",
    "stations2 = [\"20891\", \"22641\", \"22887\", \"23711\", \"24908\", \\\n",
    "            \"27947\", \"28722\", \"29231\", \"30230\", \"37099\"]"
   ]
  },
  {
   "cell_type": "code",
   "execution_count": 9,
   "metadata": {},
   "outputs": [],
   "source": [
    "num_cols = 10\n",
    "for station in stations:\n",
    "    files = sorted(glob.glob(work_folder + '*' + station + '*.csv'), key=natural_keys)\n",
    "    data_osa = None\n",
    "    data_oda = []\n",
    "    temp_oda = []\n",
    "    i = 0\n",
    "    for fil in files:\n",
    "        raw = None\n",
    "        with open(fil, 'rb') as f:\n",
    "            raw = [float(x.replace('\\n', '')) for x in f.readlines()]\n",
    "        if i == 0:\n",
    "            data_osa = list(raw)\n",
    "            temp_oda.append(raw)\n",
    "            i += 1\n",
    "        else:\n",
    "            temp_oda.append(raw)\n",
    "    temp_oda = np.array(temp_oda)\n",
    "    for i in range(num_cols):\n",
    "        data_oda = data_oda + temp_oda[:, i * 24].tolist()\n",
    "    with open(work_folder + 'OSA/' + station + '.dat', 'wb') as f:\n",
    "        for d in data_osa:\n",
    "            f.write(str(d) + '\\n')\n",
    "    with open(work_folder + 'ODA/' + station + '.dat', 'wb') as f:\n",
    "        for d in data_oda:\n",
    "            f.write(str(d) + '\\n')"
   ]
  },
  {
   "cell_type": "code",
   "execution_count": 10,
   "metadata": {},
   "outputs": [],
   "source": [
    "num_cols = 10\n",
    "for station in stations2:\n",
    "    files = sorted(glob.glob(work_folder + '*' + station + '*.csv'), key=natural_keys)\n",
    "    data_osa = None\n",
    "    data_oda = []\n",
    "    temp_oda = []\n",
    "    i = 0\n",
    "    for fil in files:\n",
    "        raw = None\n",
    "        with open(fil, 'rb') as f:\n",
    "            raw = [float(x.replace('\\n', '')) for x in f.readlines()]\n",
    "        if i == 0:\n",
    "            data_osa = list(raw)\n",
    "            temp_oda.append(raw)\n",
    "            i += 1\n",
    "        else:\n",
    "            temp_oda.append(raw)\n",
    "    temp_oda = np.array(temp_oda)\n",
    "    for i in range(num_cols):\n",
    "        data_oda = data_oda + temp_oda[:, i * 8].tolist()\n",
    "    with open(work_folder + 'OSA/' + station + '.dat', 'wb') as f:\n",
    "        for d in data_osa:\n",
    "            f.write(str(d) + '\\n')\n",
    "    with open(work_folder + 'ODA/' + station + '.dat', 'wb') as f:\n",
    "        for d in data_oda:\n",
    "            f.write(str(d) + '\\n')"
   ]
  },
  {
   "cell_type": "code",
   "execution_count": 4,
   "metadata": {},
   "outputs": [],
   "source": [
    "stations = [u'20891', u'22641', u'22887', u'23711', u'24908', u'27947', u'28722', u'29231', u'30230', u'37099', u'aristeomercado', u'cointzio', u'corrales', u'elfresno', u'lapalma', u'lapiedad', u'malpais', u'markazuza', u'melchorocampo',\n",
    "            u'patzcuaro']\n",
    "\n",
    "\n",
    "forecasters = ['NNDE_MSE', 'NNDE_SMAPE', 'EvoDAG2', 'FuzzyForecast', 'ANNGP', 'NN', 'ARIMA', 'NAIVE']\n",
    "methods = ['OSA', 'ODA']\n",
    "\n",
    "data = {}\n",
    "actual_values = {}\n",
    "i = 0\n",
    "anex_folder = 'russian stations'\n",
    "for station in stations:\n",
    "    data[station] = {}\n",
    "    for method in methods:\n",
    "        data[station][method] = {}\n",
    "    folder = '/Users/rafa/Dropbox/wind_forecasting_paper/datasets/'\n",
    "    if i > 9:\n",
    "        anex_folder = 'michoacan stations'\n",
    "    with open(folder + anex_folder + '/complete/wind_' + station + '_10m_complete.csv', 'rb') as f:\n",
    "        actual_values[station] = [float(x.split(',')[1].replace('\\n', '')) for x in f.readlines()]\n",
    "    i += 1"
   ]
  },
  {
   "cell_type": "code",
   "execution_count": 10,
   "metadata": {},
   "outputs": [
    {
     "data": {
      "text/plain": [
       "102272"
      ]
     },
     "execution_count": 10,
     "metadata": {},
     "output_type": "execute_result"
    }
   ],
   "source": [
    "len(actual_values['20891'])"
   ]
  },
  {
   "cell_type": "code",
   "execution_count": 5,
   "metadata": {},
   "outputs": [],
   "source": [
    "for method in methods:\n",
    "    for forecaster in forecasters:\n",
    "        if forecaster == 'NAIVE':\n",
    "            for station in stations:\n",
    "                num_samples = 240\n",
    "                if station in stations2:\n",
    "                    num_samples = 80\n",
    "                temp = [0] + actual_values[station]\n",
    "                temp.pop(len(temp) - 1)\n",
    "                if method == 'OSA':\n",
    "                    data[station][method][forecaster] = temp[-num_samples:]\n",
    "                else:\n",
    "                    temp2 = []\n",
    "                    for i in range(len(temp) - num_samples, len(temp), 8):\n",
    "                        temp2 += [temp[i]] * 8\n",
    "                    data[station][method][forecaster] = temp2\n",
    "        else:\n",
    "            folder = '/Users/rafa/Dropbox/wind_forecasting_paper/forecasts/' + forecaster + '/' + method + '/'\n",
    "            for station in stations:\n",
    "                forecast = None\n",
    "                with open(folder + station + '.dat', 'rb') as f:\n",
    "                    data[station][method][forecaster] = [float(x.replace('\\n', '')) for x in f.readlines()]"
   ]
  },
  {
   "cell_type": "code",
   "execution_count": 6,
   "metadata": {},
   "outputs": [],
   "source": [
    "def smape(a, f):\n",
    "    \"\"\"Calculates the symmetric mean average percentage error between two sets a (actual) and f (forecast)\"\"\"\n",
    "    c = list(a)\n",
    "    d = list(f)\n",
    "    indexes = []\n",
    "    for i in range(len(a)):\n",
    "        if c[i] == 0 and d[i] == 0:\n",
    "            indexes.append(i)\n",
    "        if c[i] == -1 or d[i] < 0:\n",
    "            indexes.append(i)\n",
    "    c = np.array([x for i, x in enumerate(a) if i not in indexes])\n",
    "    d = np.array([x for i, x in enumerate(f) if i not in indexes])\n",
    "    return np.mean(np.abs(d - c) / ((np.abs(c) + np.abs(d)) / 2)) * 100\n",
    "\n",
    "def mse(a, f):\n",
    "    \"\"\"Calculates the Mean Squared Error between two sets a (actual) and f (forecast)\"\"\"\n",
    "    c = list(a)\n",
    "    d = list(f)\n",
    "    indexes = []\n",
    "    for i in range(len(a)):\n",
    "        if c[i] == 0 and d[i] == 0:\n",
    "            indexes.append(i)\n",
    "        if c[i] == -1 or d[i] < 0:\n",
    "            indexes.append(i)\n",
    "    c = np.array([x for i, x in enumerate(a) if i not in indexes])\n",
    "    d = np.array([x for i, x in enumerate(f) if i not in indexes])\n",
    "    return np.mean(np.power((c - d), 2))"
   ]
  },
  {
   "cell_type": "code",
   "execution_count": 7,
   "metadata": {},
   "outputs": [
    {
     "name": "stderr",
     "output_type": "stream",
     "text": [
      "/Library/Python/2.7/site-packages/numpy/core/fromnumeric.py:2957: RuntimeWarning: Mean of empty slice.\n  out=out, **kwargs)\n/Library/Python/2.7/site-packages/numpy/core/_methods.py:80: RuntimeWarning: invalid value encountered in double_scalars\n  ret = ret.dtype.type(ret / rcount)\n"
     ]
    }
   ],
   "source": [
    "errors_mse = {}\n",
    "errors_smape = {}\n",
    "\n",
    "for method in methods:\n",
    "    errors_mse[method] = {}\n",
    "    errors_smape[method] = {}\n",
    "    for station in stations:\n",
    "        errors_mse[method][station] = {}\n",
    "        errors_smape[method][station] = {}\n",
    "        for forecaster in forecasters:\n",
    "            num_samples = 240\n",
    "            if station in stations2:\n",
    "                num_samples = 80\n",
    "            try:\n",
    "                errors_mse[method][station][forecaster] = mse(actual_values[station][-num_samples:], data[station][method][forecaster])\n",
    "                errors_smape[method][station][forecaster] = smape(actual_values[station][-num_samples:], data[station][method][forecaster])\n",
    "            except ValueError:\n",
    "                print method + ' ' + forecaster + ' ' + station"
   ]
  },
  {
   "cell_type": "code",
   "execution_count": 12,
   "metadata": {},
   "outputs": [
    {
     "name": "stdout",
     "output_type": "stream",
     "text": [
      "52.6762\n200.0\n"
     ]
    }
   ],
   "source": [
    "print round(mse(actual_values['lapiedad'][-num_samples:], np.zeros(240)), 4)\n",
    "print smape(actual_values['lapiedad'][-num_samples:], np.zeros(240))"
   ]
  },
  {
   "cell_type": "code",
   "execution_count": 98,
   "metadata": {},
   "outputs": [],
   "source": [
    "def best(errors):\n",
    "    bdict = {}\n",
    "    for method in methods:\n",
    "        bdict[method] = {}\n",
    "        for station in stations:\n",
    "            bdict[method][station] = [] \n",
    "            best_value = 9999999999\n",
    "            best_name = ''\n",
    "            for forecaster in forecasters:\n",
    "                if round(errors[method][station][forecaster], 4) < best_value:\n",
    "                    best_value = round(errors[method][station][forecaster], 4)\n",
    "                    best_name = forecaster\n",
    "            bdict[method][station].append(best_name)\n",
    "    return bdict"
   ]
  },
  {
   "cell_type": "code",
   "execution_count": 99,
   "metadata": {},
   "outputs": [],
   "source": [
    "def replace_last(source_string, replace_what, replace_with):\n",
    "    head, _sep, tail = source_string.rpartition(replace_what)\n",
    "    return head + replace_with + tail\n",
    "\n",
    "\n",
    "def print_table(errors, metric, bdict):\n",
    "    forecasters_print = list(forecasters)\n",
    "    if metric == 0:\n",
    "        forecasters_print.pop(1)\n",
    "    else:\n",
    "        forecasters_print.pop(0)\n",
    "    for method in methods:\n",
    "        if method == 'ODA':\n",
    "            forecasters_print.pop(forecasters_print.index('NAIVE'))\n",
    "        print method\n",
    "        row1 = '                              '\n",
    "        for forecaster in forecasters_print:\n",
    "            spaces = ' '\n",
    "            # for i in range(0, 15 - len(forecaster)):\n",
    "            #     spaces += ' '\n",
    "            row1 += spaces + forecaster + spaces + '&'\n",
    "        print replace_last(row1, '&', '\\\\\\\\')\n",
    "        print '\\hline'\n",
    "        for station in stations:\n",
    "            row2 = ''\n",
    "            for forecaster in forecasters_print:\n",
    "                    result = str(round(errors[method][station][forecaster], 4))\n",
    "                    spaces = ' '\n",
    "                    # for i in range(0, 15 - len(result)):\n",
    "                    #     spaces += ' '\n",
    "                    best = ''\n",
    "                    if bdict[method][station][0] == forecaster:\n",
    "                        best = '\\\\bfseries'\n",
    "                    row2 += spaces + best + result + spaces + '&'\n",
    "            for i in range(0, 15 - len(station)):\n",
    "                station += ' '\n",
    "            print replace_last(station + ' & ' + row2, '&', '\\\\\\\\')\n",
    "        print '\\hline'"
   ]
  },
  {
   "cell_type": "code",
   "execution_count": 100,
   "metadata": {},
   "outputs": [
    {
     "name": "stdout",
     "output_type": "stream",
     "text": [
      "OSA\n                               NNDE_MSE & EvoDAG2 & FuzzyForecast & ANNGP & NN & ARIMA & NAIVE \\\\\n\\hline\n20891           &  \\bfseries1.1446 & 1.2099 & 1.754 & 14.1139 & 1.3324 & 1.1478 & 1.4805 \\\\\n22641           &  \\bfseries1.2404 & 1.5381 & 2.1581 & 3.8497 & 1.4735 & 1.3916 & 2.0972 \\\\\n22887           &  0.9639 & 0.907 & 1.1022 & 1.9551 & 1.3024 & \\bfseries0.8688 & 1.1692 \\\\\n23711           &  0.2887 & 0.3358 & 0.7066 & 0.3689 & 0.3743 & \\bfseries0.2822 & 0.5091 \\\\\n24908           &  \\bfseries0.292 & 0.3392 & 3.8116 & 0.4593 & 0.3572 & 0.3951 & 0.9189 \\\\\n27947           &  \\bfseries1.7919 & 2.0307 & 2.3074 & 11.8573 & 1.9456 & 2.0578 & 2.5132 \\\\\n28722           &  \\bfseries1.8658 & 2.1941 & 3.1781 & 9.0612 & 2.0727 & 1.9485 & 2.8462 \\\\\n29231           &  \\bfseries0.6496 & 0.7641 & 1.1799 & 3.1808 & 0.7296 & 0.7193 & 1.0132 \\\\\n30230           &  \\bfseries0.2412 & 0.3486 & 4.7282 & 0.2871 & 0.3043 & 0.3214 & 0.6731 \\\\\n37099           &  \\bfseries0.5315 & 0.5652 & 0.959 & 2.2647 & 0.5521 & 0.5696 & 0.8608 \\\\\naristeomercado  &  9.5286 & 13.3929 & 9.7058 & 20.474 & \\bfseries8.6381 & 30.5793 & 9.7058 \\\\\ncointzio        &  \\bfseries7.4543 & 18.7686 & 7.6163 & 18.5459 & 7.7301 & 13.02 & 8.0808 \\\\\ncorrales        &  3.6705 & 4.5047 & \\bfseries2.9667 & 5.459 & 4.2109 & 4.7997 & 3.7335 \\\\\nelfresno        &  16.4781 & 97.6944 & \\bfseries15.503 & 75.5738 & 19.3614 & 23.906 & 17.7171 \\\\\nlapalma         &  3.3505 & 5.4025 & \\bfseries3.3172 & 4.7348 & 3.7246 & 3.4915 & 3.7493 \\\\\nlapiedad        &  \\bfseries5.9499 & 16.4811 & 6.3834 & 12.6584 & 6.2552 & 6.1501 & 6.1501 \\\\\nmalpais         &  \\bfseries208.5132 & 320.0277 & 447.3395 & 234.3402 & 266.3732 & 257.1571 & 417.5942 \\\\\nmarkazuza       &  2.9506 & 25.373 & 4.8123 & 6.3855 & 3.2948 & 4.9903 & \\bfseries2.6967 \\\\\nmelchorocampo   &  \\bfseries5.423 & 8.61 & 7.788 & 12.9169 & 6.2126 & 6.2048 & 6.7477 \\\\\npatzcuaro       &  6.8796 & 18.4182 & \\bfseries6.496 & 11.4877 & 7.1903 & 26.3903 & 6.5264 \\\\\n\\hline\nODA\n                               NNDE_MSE & EvoDAG2 & FuzzyForecast & ANNGP & NN & ARIMA \\\\\n\\hline\n20891           &  \\bfseries1.4146 & 2.2475 & 2.5303 & 13.8534 & 2.0833 & 3.1139 \\\\\n22641           &  \\bfseries1.5627 & 2.2391 & 2.9276 & 3.4654 & 1.8851 & 2.2761 \\\\\n22887           &  \\bfseries0.8606 & 2.0638 & 2.4102 & 1.9692 & 3.0461 & 2.009 \\\\\n23711           &  \\bfseries0.3331 & 0.7785 & 1.2474 & 0.4963 & 0.9595 & 0.4996 \\\\\n24908           &  0.6458 & \\bfseries0.4694 & 3.3124 & 0.5384 & 0.489 & 0.8044 \\\\\n27947           &  \\bfseries2.6953 & 3.5617 & 4.5089 & 11.364 & 3.4069 & 3.6075 \\\\\n28722           &  \\bfseries2.828 & 3.2825 & 4.929 & 8.7565 & 3.3989 & 3.6334 \\\\\n29231           &  \\bfseries0.7178 & 1.0357 & 1.08 & 2.7844 & 1.0234 & 1.0765 \\\\\n30230           &  \\bfseries0.2348 & 0.3882 & 3.8638 & 0.3015 & 0.4419 & 0.3021 \\\\\n37099           &  \\bfseries0.5785 & 0.6476 & 1.0083 & 2.2288 & 0.6165 & 0.6386 \\\\\naristeomercado  &  \\bfseries16.7335 & 36.4521 & 50.1477 & 102.999 & 24.1207 & 34.3002 \\\\\ncointzio        &  \\bfseries16.6555 & 27.0858 & 64.2943 & 92.8891 & 68.1237 & 47.9222 \\\\\ncorrales        &  \\bfseries4.3255 & 11.7285 & 21.2469 & 36.0821 & 9.5272 & 31.1742 \\\\\nelfresno        &  23.4985 & 68.4512 & \\bfseries20.9427 & 124.3688 & 54.7789 & 32.1632 \\\\\nlapalma         &  \\bfseries3.5359 & 5.2022 & 5.7179 & 27.7763 & 4.9954 & 22.5296 \\\\\nlapiedad        &  14.26 & 30.5491 & \\bfseries6.3834 & 50.9877 & 38.0433 & nan \\\\\nmalpais         &  \\bfseries251.0957 & 304.7295 & 406.502 & 361.361 & 298.7613 & 300.9833 \\\\\nmarkazuza       &  \\bfseries5.6745 & 12.1892 & 22.2189 & 22.9536 & 9.13 & 18.1743 \\\\\nmelchorocampo   &  \\bfseries8.0218 & 12.4588 & 24.122 & 68.0802 & 8.6252 & 44.9847 \\\\\npatzcuaro       &  \\bfseries12.5072 & 50.7609 & 114.2332 & 66.4667 & 35.9608 & 39.6194 \\\\\n\\hline\nOSA\n                               NNDE_SMAPE & EvoDAG2 & FuzzyForecast & ANNGP & NN & ARIMA & NAIVE \\\\\n\\hline\n20891           &  \\bfseries29.6564 & 34.7307 & 39.856 & 177.1883 & 34.5254 & 37.4543 & 34.6054 \\\\\n22641           &  \\bfseries47.8307 & 61.929 & 62.766 & 156.2629 & 63.3452 & 61.5878 & 50.2778 \\\\\n22887           &  \\bfseries70.506 & 85.3416 & 80.5303 & 168.8161 & 90.8306 & 96.0223 & 75.2674 \\\\\n23711           &  \\bfseries71.5152 & 103.5979 & 111.6042 & 154.7403 & 105.0322 & 109.455 & 78.7879 \\\\\n24908           &  \\bfseries91.8248 & 148.2764 & 145.59 & 183.1195 & 145.6395 & 146.1459 & 102.7027 \\\\\n27947           &  \\bfseries47.7467 & 52.443 & 55.7703 & 170.3111 & 51.7676 & 52.5265 & 51.6444 \\\\\n28722           &  \\bfseries56.7134 & 79.4778 & 83.4289 & 170.8697 & 77.4884 & 78.1059 & 60.6633 \\\\\n29231           &  \\bfseries48.1392 & 54.6628 & 65.032 & 160.5618 & 52.3358 & 53.806 & 53.5589 \\\\\n30230           &  \\bfseries121.5278 & 138.8897 & 149.5682 & 173.2819 & 136.311 & 150.1244 & 134.6154 \\\\\n37099           &  \\bfseries36.3603 & 41.6525 & 48.484 & 130.4847 & 40.5067 & 40.0351 & 41.7119 \\\\\naristeomercado  &  29.4727 & 36.0221 & 30.3345 & 37.0639 & \\bfseries28.8245 & 49.3668 & 30.3345 \\\\\ncointzio        &  19.1669 & 27.0801 & 20.0322 & 26.3309 & 19.8073 & 25.7577 & 19.6683 \\\\\ncorrales        &  23.8028 & 27.6645 & \\bfseries22.1857 & 29.6223 & 25.6525 & 28.635 & 23.5479 \\\\\nelfresno        &  29.1501 & 62.3659 & 30.8922 & 63.105 & 30.1826 & 36.7167 & \\bfseries29.1058 \\\\\nlapalma         &  27.9533 & 36.4984 & \\bfseries27.8067 & 34.2672 & 31.4742 & 28.5202 & 28.7231 \\\\\nlapiedad        &  29.5855 & 40.7741 & 31.0024 & 40.2763 & 29.5564 & 29.9047 & 29.9047 \\\\\nmalpais         &  \\bfseries27.0334 & 59.1462 & 28.962 & 36.5165 & 44.8658 & 29.9755 & 28.7169 \\\\\nmarkazuza       &  26.9222 & 41.9725 & 33.9183 & 36.1454 & 27.0431 & 37.8807 & 27.3552 \\\\\nmelchorocampo   &  \\bfseries23.4114 & 26.6881 & 27.0689 & 35.829 & 24.1748 & 25.2651 & 25.323 \\\\\npatzcuaro       &  \\bfseries23.8355 & 52.9107 & 28.6106 & 37.2044 & 31.1288 & 61.0764 & 28.4476 \\\\\n\\hline\nODA\n                               NNDE_SMAPE & EvoDAG2 & FuzzyForecast & ANNGP & NN & ARIMA \\\\\n\\hline\n20891           &  \\bfseries33.552 & 42.2873 & 47.3493 & 177.6675 & 40.7013 & 52.4848 \\\\\n22641           &  70.4661 & 73.8374 & 76.6201 & 138.3892 & 71.6054 & 74.538 \\\\\n22887           &  91.5411 & 94.3505 & 123.8363 & 162.0671 & 100.2613 & 183.0415 \\\\\n23711           &  \\bfseries86.7816 & 106.386 & 120.2728 & 144.7842 & 111.4878 & 91.5766 \\\\\n24908           &  90.1961 & 147.5104 & 144.7546 & 183.8126 & 146.98 & 138.607 \\\\\n27947           &  \\bfseries53.1136 & 57.073 & 64.7362 & 166.4195 & 57.2681 & 56.9602 \\\\\n28722           &  \\bfseries74.403 & 83.7608 & 88.7687 & 167.0029 & 84.6922 & 82.5067 \\\\\n29231           &  51.0582 & 56.9758 & 64.3749 & 160.8469 & 55.9946 & 60.9277 \\\\\n30230           &  \\bfseries125.9524 & 132.3469 & 147.326 & 168.3046 & 134.5533 & 170.7129 \\\\\n37099           &  \\bfseries40.6403 & 41.7698 & 49.8445 & 116.4133 & 42.35 & 42.9638 \\\\\naristeomercado  &  38.2593 & 49.9378 & 62.5017 & 189.804 & 37.3952 & 48.9575 \\\\\ncointzio        &  \\bfseries25.1806 & 39.5897 & 61.9842 & 189.0272 & 45.312 & 76.3227 \\\\\ncorrales        &  30.2049 & 44.3881 & 54.2418 & 179.6503 & 37.8604 & 145.8982 \\\\\nelfresno        &  38.3784 & 56.5281 & \\bfseries36.6493 & 187.0028 & 49.1252 & 42.4723 \\\\\nlapalma         &  31.1361 & 34.783 & 39.9187 & 181.6016 & 36.5029 & 141.3089 \\\\\nlapiedad        &  50.6241 & 64.3115 & \\bfseries31.0024 & 180.0522 & 56.9403 & nan \\\\\nmalpais         &  \\bfseries28.8557 & 46.7424 & 62.4839 & 198.1424 & 46.0457 & 40.7546 \\\\\nmarkazuza       &  36.9164 & 51.3882 & 62.0798 & 154.0633 & 49.0034 & 113.7309 \\\\\nmelchorocampo   &  27.8846 & 35.1339 & 40.8998 & 185.6322 & 29.9647 & 117.4411 \\\\\npatzcuaro       &  \\bfseries39.7281 & 83.0646 & 91.9971 & 187.6543 & 50.7338 & 84.692 \\\\\n\\hline\n"
     ]
    }
   ],
   "source": [
    "bdict_mse = best(errors_mse)\n",
    "bdict_smape = best(errors_smape)\n",
    "print_table(errors_mse, 0, bdict_mse)\n",
    "print_table(errors_smape, 1, bdict_smape)"
   ]
  },
  {
   "cell_type": "code",
   "execution_count": null,
   "metadata": {},
   "outputs": [],
   "source": [
    " "
   ]
  }
 ],
 "metadata": {
  "kernelspec": {
   "display_name": "Python 2",
   "language": "python",
   "name": "python2"
  },
  "language_info": {
   "codemirror_mode": {
    "name": "ipython",
    "version": 2
   },
   "file_extension": ".py",
   "mimetype": "text/x-python",
   "name": "python",
   "nbconvert_exporter": "python",
   "pygments_lexer": "ipython2",
   "version": "2.7.6"
  }
 },
 "nbformat": 4,
 "nbformat_minor": 0
}
